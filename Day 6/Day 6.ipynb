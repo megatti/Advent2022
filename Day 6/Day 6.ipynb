{
 "cells": [
  {
   "cell_type": "code",
   "execution_count": 16,
   "id": "7f6ca56a-c76c-4822-b02a-6ab68f3f4242",
   "metadata": {},
   "outputs": [],
   "source": [
    "with open(\"message.txt\") as f:\n",
    "    message = [line.strip() for line in f.readlines()][0]\n",
    "    \n",
    "# print(message)"
   ]
  },
  {
   "cell_type": "code",
   "execution_count": 18,
   "id": "4075a62c-e75f-4f04-97b7-09b185a35e79",
   "metadata": {},
   "outputs": [
    {
     "name": "stdout",
     "output_type": "stream",
     "text": [
      "rpbc\n",
      "1702\n"
     ]
    }
   ],
   "source": [
    "count = 0\n",
    "for combo in zip(*[message[i:] for i in range(4)]):\n",
    "    if len(set(combo)) == 4:\n",
    "        print(\"\".join(combo))\n",
    "        print(count + 4)\n",
    "        break\n",
    "    count += 1"
   ]
  },
  {
   "cell_type": "code",
   "execution_count": 19,
   "id": "fb38ceaa-bbea-438f-9084-5acbdbf3474b",
   "metadata": {},
   "outputs": [
    {
     "name": "stdout",
     "output_type": "stream",
     "text": [
      "lnvbtqgjsdzmhc\n",
      "3559\n"
     ]
    }
   ],
   "source": [
    "count = 0\n",
    "for combo in zip(*[message[i:] for i in range(14)]):\n",
    "    if len(set(combo)) == 14:\n",
    "        print(\"\".join(combo))\n",
    "        print(count + 14)\n",
    "        break\n",
    "    count += 1"
   ]
  }
 ],
 "metadata": {
  "kernelspec": {
   "display_name": "Python 3 (ipykernel)",
   "language": "python",
   "name": "python3"
  },
  "language_info": {
   "codemirror_mode": {
    "name": "ipython",
    "version": 3
   },
   "file_extension": ".py",
   "mimetype": "text/x-python",
   "name": "python",
   "nbconvert_exporter": "python",
   "pygments_lexer": "ipython3",
   "version": "3.9.5"
  }
 },
 "nbformat": 4,
 "nbformat_minor": 5
}
