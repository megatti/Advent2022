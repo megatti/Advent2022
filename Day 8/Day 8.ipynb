{
 "cells": [
  {
   "cell_type": "code",
   "execution_count": 34,
   "id": "60de427b-fcf5-41bc-9ea8-55e04708a139",
   "metadata": {},
   "outputs": [
    {
     "name": "stdout",
     "output_type": "stream",
     "text": [
      "[[2 1 3 ... 0 0 1]\n",
      " [0 3 2 ... 2 2 2]\n",
      " [2 1 1 ... 3 0 2]\n",
      " ...\n",
      " [3 2 3 ... 1 2 3]\n",
      " [0 2 0 ... 1 1 1]\n",
      " [0 0 0 ... 0 3 0]]\n"
     ]
    }
   ],
   "source": [
    "import numpy as np\n",
    "\n",
    "with open(\"trees.txt\") as f:\n",
    "    trees = [[int(tree) for tree in list(line.strip())] for line in f.readlines()]\n",
    "    \n",
    "trees = np.array(trees)\n",
    "print(trees)"
   ]
  },
  {
   "cell_type": "code",
   "execution_count": 29,
   "id": "5d4ab140-c139-4dc0-a6bd-dccbe33ac476",
   "metadata": {},
   "outputs": [
    {
     "name": "stdout",
     "output_type": "stream",
     "text": [
      "21\n"
     ]
    }
   ],
   "source": [
    "n_vis = 0\n",
    "for (i, j), val in np.ndenumerate(trees):\n",
    "#     print(\"coords:\", i, j, \"value:\", val)\n",
    "#     print(trees[:i, j])\n",
    "#     print(trees[i, :j])\n",
    "#     print(trees[i+1:, j])\n",
    "#     print(trees[i, j+1:])\n",
    "    \n",
    "    up = val > np.max(trees[:i, j], initial=-1)\n",
    "    left = val > np.max(trees[i, :j], initial=-1)\n",
    "    down = val > np.max(trees[i+1:, j], initial=-1)\n",
    "    right = val > np.max(trees[i, j+1:], initial=-1)\n",
    "    if up or left or down or right:\n",
    "        n_vis += 1\n",
    "\n",
    "print(n_vis)"
   ]
  },
  {
   "cell_type": "markdown",
   "id": "e17b2d6b-0fbb-4060-b838-fecfc42e3158",
   "metadata": {},
   "source": [
    "# Part 2"
   ]
  },
  {
   "cell_type": "code",
   "execution_count": 35,
   "id": "73ad64a0-682c-4147-909f-e17dd4d7b2d2",
   "metadata": {},
   "outputs": [
    {
     "name": "stdout",
     "output_type": "stream",
     "text": [
      "536625\n"
     ]
    }
   ],
   "source": [
    "max_score = 0\n",
    "\n",
    "for (i, j), val in np.ndenumerate(trees):\n",
    "    # need to find first tree along a direction that is equal or taller than current tree\n",
    "    # step along each direction until found? reverse up and left views since starting from inside of array\n",
    "    # trees along the edges will always have a scenic score of 0 since multiplying by 0\n",
    "    # therefore skip them\n",
    "    \n",
    "#     print(\"coords:\", i, j, \"value:\", val)\n",
    "    \n",
    "    views = (trees[:i, j][::-1], trees[i, :j][::-1], trees[i+1:, j], trees[i, j+1:])  # up, left, down, right\n",
    "    new_score = 1\n",
    "    for view in views:\n",
    "        n = 0\n",
    "        for tree in view:\n",
    "            n += 1\n",
    "            if tree >= val:\n",
    "                break\n",
    "        new_score *= n\n",
    "        if new_score == 0:  # only happens if n is still 0 i.e. on edge\n",
    "            break\n",
    "            \n",
    "    max_score = max(new_score, max_score)\n",
    "\n",
    "print(max_score)"
   ]
  }
 ],
 "metadata": {
  "kernelspec": {
   "display_name": "Python 3 (ipykernel)",
   "language": "python",
   "name": "python3"
  },
  "language_info": {
   "codemirror_mode": {
    "name": "ipython",
    "version": 3
   },
   "file_extension": ".py",
   "mimetype": "text/x-python",
   "name": "python",
   "nbconvert_exporter": "python",
   "pygments_lexer": "ipython3",
   "version": "3.9.5"
  }
 },
 "nbformat": 4,
 "nbformat_minor": 5
}
