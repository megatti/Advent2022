{
 "cells": [
  {
   "cell_type": "code",
   "execution_count": 54,
   "id": "dbf335db-fe90-40c8-b0ee-82a0dcf88dfc",
   "metadata": {},
   "outputs": [],
   "source": [
    "with open(\"commands.txt\") as f:\n",
    "    lines = [line.strip() for line in f.readlines()]\n",
    "    \n",
    "def change_dir(directory, cur_dir):\n",
    "    if directory == \"/\":\n",
    "        return [\"/\"]\n",
    "    elif directory == \"..\":\n",
    "        cur_dir.pop()\n",
    "        return cur_dir\n",
    "    else:\n",
    "        cur_dir.append(directory)\n",
    "        return cur_dir\n",
    "    \n",
    "    \n",
    "sizes = dict()\n",
    "dirs = dict()\n",
    "cur_dir = []\n",
    "\n",
    "for line in lines:\n",
    "    if line.startswith(\"$ cd\"):\n",
    "        move_to = line.split(\" \")[-1]\n",
    "        cur_dir = change_dir(move_to, cur_dir)\n",
    "\n",
    "    elif line.startswith(\"$ ls\"):\n",
    "        pass  # don't think I need to actually know this happens\n",
    "    \n",
    "    elif line.startswith(\"dir\"):\n",
    "        # do stuff if it's a directory - add to a tree or something?\n",
    "        pass\n",
    "        \n",
    "    else:\n",
    "        # it's a file\n",
    "        filesize, filename = line.split(\" \")\n",
    "        filesize = int(filesize)\n",
    "        sizes[\"@\".join(cur_dir) + \"@\" + filename] = filesize\n",
    "    \n",
    "    realname = \"@\".join(cur_dir)\n",
    "    if realname not in dirs:\n",
    "        dirs[realname] = 0\n",
    "        \n",
    "#     print(line, \"||\", cur_dir)\n",
    "#     print()\n",
    "\n",
    "# print(sizes)\n",
    "# print(dirs)"
   ]
  },
  {
   "cell_type": "code",
   "execution_count": 74,
   "id": "e9ef3abc-d07f-4273-8ac3-a9b3097d00f3",
   "metadata": {},
   "outputs": [
    {
     "name": "stdout",
     "output_type": "stream",
     "text": [
      "1077191\n"
     ]
    }
   ],
   "source": [
    "for key in dirs.keys():\n",
    "    dirs[key] = 0  # \"reset\" in case I run this cell multiple times\n",
    "\n",
    "for file, size in sizes.items():\n",
    "    tree = file.split(\"@\")[:-1]\n",
    "    for index, directory in enumerate(tree):\n",
    "        cur_dir = \"@\".join(tree[:index+1])\n",
    "        dirs[cur_dir] += size\n",
    "        \n",
    "answer = sum([size if size <= 100000 else 0 for size in dirs.values()])     \n",
    "print(answer)"
   ]
  },
  {
   "cell_type": "markdown",
   "id": "bcd4b1b5-46af-40ad-b955-5f30ea58c0b5",
   "metadata": {},
   "source": [
    "# Part 2"
   ]
  },
  {
   "cell_type": "code",
   "execution_count": 64,
   "id": "fbdef726-a8f6-4ea4-8fd5-c63bedf6e7e3",
   "metadata": {},
   "outputs": [
    {
     "name": "stdout",
     "output_type": "stream",
     "text": [
      "24825975\n",
      "5174025\n",
      "/@hdh@cljdmh@hdh 5649896\n"
     ]
    }
   ],
   "source": [
    "disk_space = 70000000\n",
    "target_space = 30000000\n",
    "\n",
    "free = disk_space - dirs[\"/\"]\n",
    "needed = target_space - free\n",
    "\n",
    "cur_min = disk_space\n",
    "for directory, total_size in dirs.items():\n",
    "    if total_size >= needed and total_size < cur_min:\n",
    "        delete_me = directory\n",
    "        cur_min = total_size\n",
    "        \n",
    "print(delete_me, dirs[delete_me])"
   ]
  },
  {
   "cell_type": "code",
   "execution_count": 65,
   "id": "02c0ce28-6c64-4051-bf93-43c3effc5c56",
   "metadata": {},
   "outputs": [
    {
     "name": "stdout",
     "output_type": "stream",
     "text": [
      "0 a\n",
      "1 b\n",
      "2 c\n"
     ]
    }
   ],
   "source": [
    "for i, j in enumerate([\"a\", \"b\", \"c\"]):\n",
    "    print(i, j)"
   ]
  }
 ],
 "metadata": {
  "kernelspec": {
   "display_name": "Python 3 (ipykernel)",
   "language": "python",
   "name": "python3"
  },
  "language_info": {
   "codemirror_mode": {
    "name": "ipython",
    "version": 3
   },
   "file_extension": ".py",
   "mimetype": "text/x-python",
   "name": "python",
   "nbconvert_exporter": "python",
   "pygments_lexer": "ipython3",
   "version": "3.9.5"
  }
 },
 "nbformat": 4,
 "nbformat_minor": 5
}
