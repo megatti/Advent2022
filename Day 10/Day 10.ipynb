{
 "cells": [
  {
   "cell_type": "code",
   "execution_count": 77,
   "id": "11640c49-7e98-41a6-9cfd-9e55018bb751",
   "metadata": {},
   "outputs": [],
   "source": [
    "with open(\"signal.txt\") as f:\n",
    "    lines = [line.strip().split(\" \") for line in f.readlines()]\n",
    "    \n",
    "# print(lines)\n",
    "backup_lines = lines[:]"
   ]
  },
  {
   "cell_type": "code",
   "execution_count": 78,
   "id": "3f85c13b-70cc-459a-aa10-232be421045e",
   "metadata": {},
   "outputs": [
    {
     "name": "stdout",
     "output_type": "stream",
     "text": [
      "20 21 420\n",
      "60 17 1020\n",
      "100 17 1700\n",
      "140 21 2940\n",
      "180 17 3060\n",
      "220 17 3740\n",
      "12880\n"
     ]
    }
   ],
   "source": [
    "cycle = 1\n",
    "signal = 1\n",
    "to_add = []\n",
    "interest = []\n",
    "tracker = []\n",
    "\n",
    "lines = backup_lines[:]\n",
    "\n",
    "for line in lines:\n",
    "#     print(line)\n",
    "#     print(cycle, signal, signal * cycle)\n",
    "    cycle += 1\n",
    "    tracker.append(signal)\n",
    "    if to_add:\n",
    "        signal += to_add.pop()\n",
    "    elif line[0] == \"addx\":\n",
    "        to_add.append(int(line[1]))\n",
    "        lines.insert(0, [\"noop\"])\n",
    "        \n",
    "    if (cycle - 20) % 40 == 0:\n",
    "        print(cycle, signal, signal * cycle)\n",
    "        interest.append(signal * cycle)\n",
    "        \n",
    "print(sum(interest))"
   ]
  },
  {
   "cell_type": "markdown",
   "id": "b7b44dc5-d124-4bec-b0f2-56a76a0ddfbf",
   "metadata": {},
   "source": [
    "# Part 2"
   ]
  },
  {
   "cell_type": "code",
   "execution_count": 90,
   "id": "61d1fa66-216d-4ae4-b55f-a6d4e51a4b18",
   "metadata": {},
   "outputs": [
    {
     "name": "stdout",
     "output_type": "stream",
     "text": [
      "........................................\n",
      "........................................\n",
      "........................................\n",
      "........................................\n",
      "........................................\n",
      "........................................\n"
     ]
    }
   ],
   "source": [
    "screen = [[\".\" for _ in range(40)] for _ in range(6)]\n",
    "\n",
    "for row in screen:\n",
    "    print(\"\".join(row))"
   ]
  },
  {
   "cell_type": "code",
   "execution_count": 98,
   "id": "444e2893-09cd-461c-89d8-29cda1d4e86e",
   "metadata": {},
   "outputs": [
    {
     "name": "stdout",
     "output_type": "stream",
     "text": [
      "████  ██    ██  ██  ███    ██ ███  ████ \n",
      "█    █  █    █ █  █ █  █    █ █  █ █    \n",
      "███  █       █ █  █ █  █    █ █  █ ███  \n",
      "█    █       █ ████ ███     █ ███  █    \n",
      "█    █  █ █  █ █  █ █    █  █ █ █  █    \n",
      "█     ██   ██  █  █ █     ██  █  █ ████ \n"
     ]
    }
   ],
   "source": [
    "for cycle, X in enumerate(tracker):\n",
    "    if abs((cycle % 40) - X) <= 1:\n",
    "        # draw sprite\n",
    "        row, column = divmod(cycle, 40)\n",
    "        screen[row][column] = \"#\"\n",
    "        \n",
    "clean = [[chr(9608) if i == \"#\" else \" \" for i in row] for row in screen]\n",
    "\n",
    "for row in clean:\n",
    "    print(\"\".join(row))"
   ]
  }
 ],
 "metadata": {
  "kernelspec": {
   "display_name": "Python 3 (ipykernel)",
   "language": "python",
   "name": "python3"
  },
  "language_info": {
   "codemirror_mode": {
    "name": "ipython",
    "version": 3
   },
   "file_extension": ".py",
   "mimetype": "text/x-python",
   "name": "python",
   "nbconvert_exporter": "python",
   "pygments_lexer": "ipython3",
   "version": "3.9.5"
  }
 },
 "nbformat": 4,
 "nbformat_minor": 5
}
