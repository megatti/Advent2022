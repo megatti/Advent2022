{
 "cells": [
  {
   "cell_type": "markdown",
   "id": "33b84214-7e07-4d2e-93c3-82bd36be7f5c",
   "metadata": {},
   "source": [
    "# Day 1"
   ]
  },
  {
   "cell_type": "markdown",
   "id": "fcf3e6c7-e235-4301-92a4-897033b872d4",
   "metadata": {},
   "source": [
    "## Part 1"
   ]
  },
  {
   "cell_type": "code",
   "execution_count": 14,
   "id": "0c9fae71-1230-4bdf-9b68-d46d45dfe5e9",
   "metadata": {},
   "outputs": [
    {
     "name": "stdout",
     "output_type": "stream",
     "text": [
      "71300\n"
     ]
    }
   ],
   "source": [
    "calories = [0]\n",
    "with open(\"calories.txt\") as f:\n",
    "    for line in f.readlines():\n",
    "        if line == \"\\n\":\n",
    "            calories.append(0)\n",
    "#             print(\"ok\")\n",
    "        else:\n",
    "            calories[-1] += int(line.strip())\n",
    "#             print(line.strip())\n",
    "            \n",
    "# print(calories)\n",
    "print(max(calories))"
   ]
  },
  {
   "cell_type": "markdown",
   "id": "a94cd0c2-5b17-43c4-bfe5-75ade158fdee",
   "metadata": {},
   "source": [
    "## Part 2"
   ]
  },
  {
   "cell_type": "code",
   "execution_count": 13,
   "id": "1dff365f-307b-4aa2-9519-863640bd7199",
   "metadata": {},
   "outputs": [
    {
     "name": "stdout",
     "output_type": "stream",
     "text": [
      "209691\n"
     ]
    }
   ],
   "source": [
    "print(sum(sorted(calories)[-3:]))"
   ]
  }
 ],
 "metadata": {
  "kernelspec": {
   "display_name": "Python 3 (ipykernel)",
   "language": "python",
   "name": "python3"
  },
  "language_info": {
   "codemirror_mode": {
    "name": "ipython",
    "version": 3
   },
   "file_extension": ".py",
   "mimetype": "text/x-python",
   "name": "python",
   "nbconvert_exporter": "python",
   "pygments_lexer": "ipython3",
   "version": "3.9.5"
  }
 },
 "nbformat": 4,
 "nbformat_minor": 5
}
