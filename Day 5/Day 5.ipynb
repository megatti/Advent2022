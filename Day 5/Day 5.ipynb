{
 "cells": [
  {
   "cell_type": "code",
   "execution_count": 52,
   "id": "cb8301c2-0850-4ce4-a321-b34a0db542f3",
   "metadata": {},
   "outputs": [
    {
     "name": "stdout",
     "output_type": "stream",
     "text": [
      "deque(['F', 'G', 'V', 'R', 'J', 'L', 'D'])\n",
      "deque(['S', 'J', 'H', 'V', 'B', 'M', 'P', 'T'])\n",
      "deque(['C', 'P', 'G', 'D', 'F', 'M', 'H', 'V'])\n",
      "deque(['Q', 'G', 'N', 'P', 'D', 'M'])\n",
      "deque(['F', 'N', 'H', 'L', 'J'])\n",
      "deque(['Z', 'T', 'G', 'D', 'Q', 'V', 'F', 'N'])\n",
      "deque(['L', 'B', 'D', 'F'])\n",
      "deque(['N', 'D', 'V', 'S', 'B', 'J', 'M'])\n",
      "deque(['D', 'L', 'G'])\n"
     ]
    }
   ],
   "source": [
    "import collections\n",
    "import copy\n",
    "\n",
    "stacks = []\n",
    "steps = []\n",
    "\n",
    "with open(\"crates.txt\") as f:\n",
    "    for line in f.readlines():       \n",
    "        if line.startswith(\"move\"):  # line defines a movement of the crane\n",
    "#             print(\"step:\", line)\n",
    "            splitted = line.split(\" \")\n",
    "            n_crates = int(splitted[1])\n",
    "            source = int(splitted[3])\n",
    "            dest = int(splitted[5])\n",
    "            steps.append((n_crates, source, dest))  # to use later\n",
    "            \n",
    "        elif \"[\" in line:  # defines crates, doesn't number the stacks nor is blank newline\n",
    "            i = 0  # stack number\n",
    "            while True:\n",
    "                # go through every stack until you run out\n",
    "                try:\n",
    "                    crate = line[1 + (i*4)]\n",
    "#                     print(i, crate)\n",
    "                except IndexError:\n",
    "                    break\n",
    "            \n",
    "                # to work for any number of stacks, make more queues if needed\n",
    "                if i + 1 > len(stacks):\n",
    "                    stacks.append(collections.deque())\n",
    "                    \n",
    "                # if a crate actually exists there i.e. no gap\n",
    "                if crate != \" \":\n",
    "                    stacks[i].append(crate)\n",
    "                    \n",
    "                # go to the next stack\n",
    "                i += 1\n",
    "\n",
    "for stack in stacks:\n",
    "    print(stack)  # to compare with input\n",
    "backup_stacks = copy.deepcopy(stacks)  # since will affect them in next part"
   ]
  },
  {
   "cell_type": "code",
   "execution_count": 50,
   "id": "c5447ee1-71f2-4e46-b610-55be7da29e1d",
   "metadata": {},
   "outputs": [
    {
     "name": "stdout",
     "output_type": "stream",
     "text": [
      "QMBMJDFTD\n"
     ]
    }
   ],
   "source": [
    "stacks = copy.deepcopy(backup_stacks)\n",
    "\n",
    "for stack in stacks:\n",
    "    stack.reverse()  # because I worked from top down, need to reverse\n",
    "\n",
    "for step in steps:\n",
    "    for i in range(step[0]):\n",
    "        move = stacks[step[1]-1].pop()\n",
    "        stacks[step[2]-1].append(move)\n",
    "        \n",
    "message = [stack.pop() for stack in stacks]\n",
    "print(\"\".join(message))"
   ]
  },
  {
   "cell_type": "markdown",
   "id": "ffc0abbe-8ae4-43fb-9efb-bb024345b20b",
   "metadata": {},
   "source": [
    "# Part 2"
   ]
  },
  {
   "cell_type": "code",
   "execution_count": 54,
   "id": "08cf1b72-b05a-4be0-a572-492745dc2aff",
   "metadata": {},
   "outputs": [
    {
     "name": "stdout",
     "output_type": "stream",
     "text": [
      "NBTVTJNFJ\n"
     ]
    }
   ],
   "source": [
    "stacks = copy.deepcopy(backup_stacks)\n",
    "\n",
    "for stack in stacks:\n",
    "    stack.reverse()  # because I worked from top down\n",
    "\n",
    "for step in steps:\n",
    "    moving = [stacks[step[1]-1].pop() for i in range(step[0])]\n",
    "    moving.reverse()  # reversed because same as moving multiple at once\n",
    "    for move in moving:\n",
    "        stacks[step[2]-1].append(move)\n",
    "        \n",
    "message = [stack.pop() for stack in stacks]\n",
    "print(\"\".join(message))"
   ]
  }
 ],
 "metadata": {
  "kernelspec": {
   "display_name": "Python 3 (ipykernel)",
   "language": "python",
   "name": "python3"
  },
  "language_info": {
   "codemirror_mode": {
    "name": "ipython",
    "version": 3
   },
   "file_extension": ".py",
   "mimetype": "text/x-python",
   "name": "python",
   "nbconvert_exporter": "python",
   "pygments_lexer": "ipython3",
   "version": "3.9.5"
  }
 },
 "nbformat": 4,
 "nbformat_minor": 5
}
