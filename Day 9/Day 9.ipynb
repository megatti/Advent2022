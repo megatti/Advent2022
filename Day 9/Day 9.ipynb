{
 "cells": [
  {
   "cell_type": "code",
   "execution_count": 49,
   "id": "146c8d38-418c-470c-aabf-626c54f1cbec",
   "metadata": {},
   "outputs": [],
   "source": [
    "with open(\"rope.txt\") as f:\n",
    "    lines = [line.strip() for line in f.readlines()]\n",
    "    \n",
    "steps = [(i.split(\" \")[0], int(i.split(\" \")[1])) for i in lines]\n",
    "\n",
    "# print(steps)"
   ]
  },
  {
   "cell_type": "code",
   "execution_count": 56,
   "id": "a4e9823c-818a-474d-8f80-9b620b51f255",
   "metadata": {},
   "outputs": [
    {
     "name": "stdout",
     "output_type": "stream",
     "text": [
      "[387, 161]\n",
      "[387, 162]\n",
      "6367\n"
     ]
    }
   ],
   "source": [
    "def move_tail(head, tail):\n",
    "    # one step at a time\n",
    "    if not (abs(head[0] - tail[0]) <= 1 and abs(head[1] - tail[1]) <= 1):\n",
    "        if head[0] != tail[0]:\n",
    "            tail[0] += int((head[0] - tail[0]) / abs(head[0] - tail[0]))\n",
    "        if head[1] != tail[1]:\n",
    "            tail[1] += int((head[1] - tail[1]) / abs(head[1] - tail[1]))\n",
    "#     return tail\n",
    "\n",
    "# using x, y i.e. horizontal, vertical\n",
    "head = [0, 0]\n",
    "tail = [0, 0]\n",
    "\n",
    "visited = set()\n",
    "\n",
    "for step in steps:\n",
    "    for _ in range(step[1]):\n",
    "        if step[0] == \"R\":\n",
    "            head[0] += 1\n",
    "        elif step[0] == \"L\":\n",
    "            head[0] -= 1\n",
    "        elif step[0] == \"U\":\n",
    "            head[1] += 1\n",
    "        else:\n",
    "            head[1] -= 1\n",
    "            \n",
    "        move_tail(head, tail)\n",
    "        visited.add(tuple(tail))\n",
    "        \n",
    "print(head)\n",
    "print(tail)\n",
    "print(len(visited))"
   ]
  },
  {
   "cell_type": "markdown",
   "id": "7b7597ca-9fe5-45e9-947c-18e3550be7d6",
   "metadata": {},
   "source": [
    "# Part 2"
   ]
  },
  {
   "cell_type": "code",
   "execution_count": 62,
   "id": "98f4d4c9-7806-4678-ba44-5dbc1601509a",
   "metadata": {},
   "outputs": [
    {
     "name": "stdout",
     "output_type": "stream",
     "text": [
      "[387, 161]\n",
      "[387, 162]\n",
      "[387, 163]\n",
      "[387, 164]\n",
      "[388, 164]\n",
      "[388, 163]\n",
      "[388, 162]\n",
      "[388, 161]\n",
      "[388, 160]\n",
      "[387, 159]\n",
      "2536\n"
     ]
    }
   ],
   "source": [
    "knots = [[0, 0] for _ in range(10)]\n",
    "\n",
    "visited = set()\n",
    "\n",
    "for step in steps:\n",
    "    for _ in range(step[1]):\n",
    "        if step[0] == \"R\":\n",
    "            knots[0][0] += 1\n",
    "        elif step[0] == \"L\":\n",
    "            knots[0][0] -= 1\n",
    "        elif step[0] == \"U\":\n",
    "            knots[0][1] += 1\n",
    "        else:\n",
    "            knots[0][1] -= 1\n",
    "        \n",
    "        for i in range(len(knots)-1):\n",
    "            # move using each pair of knots\n",
    "            move_tail(knots[i], knots[i+1])\n",
    "            \n",
    "        visited.add(tuple(knots[-1]))\n",
    "        \n",
    "for knot in knots:\n",
    "    print(knot)\n",
    "print(len(visited))"
   ]
  }
 ],
 "metadata": {
  "kernelspec": {
   "display_name": "Python 3 (ipykernel)",
   "language": "python",
   "name": "python3"
  },
  "language_info": {
   "codemirror_mode": {
    "name": "ipython",
    "version": 3
   },
   "file_extension": ".py",
   "mimetype": "text/x-python",
   "name": "python",
   "nbconvert_exporter": "python",
   "pygments_lexer": "ipython3",
   "version": "3.9.5"
  }
 },
 "nbformat": 4,
 "nbformat_minor": 5
}
