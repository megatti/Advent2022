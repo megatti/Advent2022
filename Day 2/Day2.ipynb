{
 "cells": [
  {
   "cell_type": "code",
   "execution_count": 27,
   "id": "16a7acd5-3378-4cee-aafa-a9f9d339a3fa",
   "metadata": {},
   "outputs": [],
   "source": [
    "with open(\"guide.txt\") as f:\n",
    "    rounds = [tuple(line.strip().split(\" \")) for line in f.readlines()]\n",
    "    \n",
    "# print(rounds)\n",
    "\n",
    "hand = {\"A\": \"X\", \"B\": \"Y\", \"C\": \"Z\"}\n",
    "wins = {(\"A\", \"Y\"), (\"B\", \"Z\"), (\"C\", \"X\")}\n",
    "points = {\"X\": 1, \"Y\": 2, \"Z\": 3}"
   ]
  },
  {
   "cell_type": "code",
   "execution_count": 28,
   "id": "6c0e6f26-c316-427e-9c21-04f02ace34f5",
   "metadata": {},
   "outputs": [
    {
     "name": "stdout",
     "output_type": "stream",
     "text": [
      "14297\n"
     ]
    }
   ],
   "source": [
    "score = 0\n",
    "for game in rounds:\n",
    "    if game in wins:\n",
    "        score += 6\n",
    "    elif hand[game[0]] == game[1]:\n",
    "        score += 3\n",
    "    score += points[game[1]]\n",
    "#     print(game, score)\n",
    "    \n",
    "print(score)"
   ]
  },
  {
   "cell_type": "markdown",
   "id": "21565a00-0aaa-4a3d-92db-f4ba9190c33d",
   "metadata": {},
   "source": [
    "# Part 2"
   ]
  },
  {
   "cell_type": "code",
   "execution_count": 30,
   "id": "86cd0399-3fc2-48c9-8831-ad57cbc3e2c4",
   "metadata": {},
   "outputs": [
    {
     "name": "stdout",
     "output_type": "stream",
     "text": [
      "10498\n"
     ]
    }
   ],
   "source": [
    "correct_rounds = []\n",
    "\n",
    "lose = {\"A\": \"Z\", \"B\": \"X\", \"C\": \"Y\"}\n",
    "win = {\"A\": \"Y\", \"B\": \"Z\", \"C\": \"X\"}\n",
    "\n",
    "for game in rounds:\n",
    "    if game[1] == \"X\":\n",
    "        correct_rounds.append((game[0], lose[game[0]]))\n",
    "    elif game[1] == \"Y\":\n",
    "        correct_rounds.append((game[0], hand[game[0]]))\n",
    "    else:\n",
    "        correct_rounds.append((game[0], win[game[0]]))\n",
    "        \n",
    "# print(correct_rounds)\n",
    "\n",
    "score = 0\n",
    "for game in correct_rounds:\n",
    "    if game in wins:\n",
    "        score += 6\n",
    "    elif hand[game[0]] == game[1]:\n",
    "        score += 3\n",
    "    score += points[game[1]]\n",
    "#     print(game, score)\n",
    "    \n",
    "print(score)"
   ]
  }
 ],
 "metadata": {
  "kernelspec": {
   "display_name": "Python 3 (ipykernel)",
   "language": "python",
   "name": "python3"
  },
  "language_info": {
   "codemirror_mode": {
    "name": "ipython",
    "version": 3
   },
   "file_extension": ".py",
   "mimetype": "text/x-python",
   "name": "python",
   "nbconvert_exporter": "python",
   "pygments_lexer": "ipython3",
   "version": "3.9.5"
  }
 },
 "nbformat": 4,
 "nbformat_minor": 5
}
