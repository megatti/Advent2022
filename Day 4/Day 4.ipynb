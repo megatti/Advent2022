{
 "cells": [
  {
   "cell_type": "markdown",
   "id": "1bcb3c73-77d7-456d-b2f4-c2b61db0054a",
   "metadata": {},
   "source": [
    "# Part 1"
   ]
  },
  {
   "cell_type": "code",
   "execution_count": 87,
   "id": "7f3150ef-2ba6-4c9c-b6f4-4c24aa7c9c29",
   "metadata": {},
   "outputs": [],
   "source": [
    "with open(\"sections.txt\") as f:\n",
    "    sections = [line.strip().split(\",\") for line in f.readlines()]\n",
    "    \n",
    "# print(sections)"
   ]
  },
  {
   "cell_type": "code",
   "execution_count": 86,
   "id": "89f4d630-d2b6-49d3-b344-30c9cc5ba075",
   "metadata": {},
   "outputs": [
    {
     "name": "stdout",
     "output_type": "stream",
     "text": [
      "569\n"
     ]
    }
   ],
   "source": [
    "contained = 0\n",
    "for section in sections:\n",
    "    inted = [sorted([int(j) for j in i.split(\"-\")]) for i in section]\n",
    "#     print(inted)\n",
    "    sort = sorted(inted, key=lambda i: (i[0], -i[1]))\n",
    "#     print(sort)\n",
    "    if sort[0][0] <= sort[1][0] and sort[0][1] >= sort[1][1]:\n",
    "        contained += 1\n",
    "    \n",
    "print(contained)"
   ]
  },
  {
   "cell_type": "markdown",
   "id": "faf0ad05-63ef-4749-8b18-542f98eeb58d",
   "metadata": {},
   "source": [
    "# Part 2"
   ]
  },
  {
   "cell_type": "code",
   "execution_count": 88,
   "id": "51ffefc7-01f5-47c5-8850-2a70c7960f68",
   "metadata": {},
   "outputs": [
    {
     "name": "stdout",
     "output_type": "stream",
     "text": [
      "936\n"
     ]
    }
   ],
   "source": [
    "overlap = 0\n",
    "for section in sections:\n",
    "    inted = [sorted([int(j) for j in i.split(\"-\")]) for i in section]\n",
    "#     print(inted)\n",
    "    sort = sorted(inted, key=lambda i: (i[0], -i[1]))\n",
    "#     print(sort)\n",
    "    if sort[1][0] <= sort[0][1]:\n",
    "        overlap += 1\n",
    "        \n",
    "print(overlap)"
   ]
  }
 ],
 "metadata": {
  "kernelspec": {
   "display_name": "Python 3 (ipykernel)",
   "language": "python",
   "name": "python3"
  },
  "language_info": {
   "codemirror_mode": {
    "name": "ipython",
    "version": 3
   },
   "file_extension": ".py",
   "mimetype": "text/x-python",
   "name": "python",
   "nbconvert_exporter": "python",
   "pygments_lexer": "ipython3",
   "version": "3.9.5"
  }
 },
 "nbformat": 4,
 "nbformat_minor": 5
}
