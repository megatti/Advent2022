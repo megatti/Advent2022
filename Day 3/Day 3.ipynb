{
 "cells": [
  {
   "cell_type": "markdown",
   "id": "38084fce-dd51-4b60-b009-ec6d42968f76",
   "metadata": {},
   "source": [
    "# Part 1"
   ]
  },
  {
   "cell_type": "code",
   "execution_count": 5,
   "id": "bceb50eb-6e7e-4e5d-925b-1684a26b329f",
   "metadata": {},
   "outputs": [],
   "source": [
    "with open(\"bags.txt\") as f:\n",
    "    bags = [line.strip() for line in f]\n",
    "    \n",
    "# print(bags)"
   ]
  },
  {
   "cell_type": "code",
   "execution_count": 6,
   "id": "e2d522b0-da96-4966-be2d-26b40eeb0356",
   "metadata": {},
   "outputs": [
    {
     "name": "stdout",
     "output_type": "stream",
     "text": [
      "8298\n"
     ]
    }
   ],
   "source": [
    "total = 0\n",
    "for bag in bags:\n",
    "    mid = int(len(bag) / 2)\n",
    "    left = bag[:mid]\n",
    "    right = bag[mid:]\n",
    "    shared = set(left) & set(right)\n",
    "    for item in shared:\n",
    "        priority = ord(item.lower()) - 96\n",
    "        if item.upper() == item:\n",
    "            priority += 26\n",
    "        total += priority\n",
    "        \n",
    "print(total)"
   ]
  },
  {
   "cell_type": "markdown",
   "id": "c32d39d3-121a-49b9-a89d-84096c5757cf",
   "metadata": {},
   "source": [
    "# Part 2"
   ]
  },
  {
   "cell_type": "code",
   "execution_count": 9,
   "id": "742c4115-2163-45f7-b76c-3cc3d5e61cf7",
   "metadata": {},
   "outputs": [
    {
     "name": "stdout",
     "output_type": "stream",
     "text": [
      "2708\n"
     ]
    }
   ],
   "source": [
    "# print(bags)\n",
    "total = 0\n",
    "\n",
    "for i in range(int(len(bags) / 3)):\n",
    "    group = bags[i*3:i*3 + 3]\n",
    "    badge = set(group[0]) & set(group[1]) & set(group[2])\n",
    "    for item in badge:\n",
    "        priority = ord(item.lower()) - 96\n",
    "        if item.upper() == item:\n",
    "            priority += 26\n",
    "        total += priority\n",
    "        \n",
    "print(total)"
   ]
  }
 ],
 "metadata": {
  "kernelspec": {
   "display_name": "Python 3 (ipykernel)",
   "language": "python",
   "name": "python3"
  },
  "language_info": {
   "codemirror_mode": {
    "name": "ipython",
    "version": 3
   },
   "file_extension": ".py",
   "mimetype": "text/x-python",
   "name": "python",
   "nbconvert_exporter": "python",
   "pygments_lexer": "ipython3",
   "version": "3.9.5"
  }
 },
 "nbformat": 4,
 "nbformat_minor": 5
}
